{
 "cells": [
  {
   "cell_type": "code",
   "execution_count": 1,
   "metadata": {
    "collapsed": true
   },
   "outputs": [],
   "source": [
    "import os\n",
    "import pickle\n",
    "\n",
    "import pandas as pd\n",
    "\n",
    "import matplotlib.pyplot as plt"
   ]
  },
  {
   "cell_type": "markdown",
   "metadata": {},
   "source": [
    "## Paths to directories"
   ]
  },
  {
   "cell_type": "code",
   "execution_count": 2,
   "metadata": {},
   "outputs": [],
   "source": [
    "# Paths\n",
    "# -----\n",
    "# Core data directory used to initialise and construct DCOPF model\n",
    "data_dir = os.path.join(os.path.curdir, os.path.pardir, os.path.pardir, 'data')\n",
    "\n",
    "# Directory containing representative operating conditions for each week\n",
    "scenarios_dir = os.path.join(os.path.curdir, os.path.pardir, '1_create_scenarios', 'output')\n",
    "\n",
    "# DCOPF model output results directory\n",
    "results_dir = os.path.join(os.path.curdir, os.path.pardir, '2_updating_strategy', 'modules', 'output')"
   ]
  },
  {
   "cell_type": "markdown",
   "metadata": {},
   "source": [
    "### Model parameter summary information"
   ]
  },
  {
   "cell_type": "code",
   "execution_count": 29,
   "metadata": {},
   "outputs": [
    {
     "data": {
      "text/html": [
       "<div>\n",
       "<style scoped>\n",
       "    .dataframe tbody tr th:only-of-type {\n",
       "        vertical-align: middle;\n",
       "    }\n",
       "\n",
       "    .dataframe tbody tr th {\n",
       "        vertical-align: top;\n",
       "    }\n",
       "\n",
       "    .dataframe thead th {\n",
       "        text-align: right;\n",
       "    }\n",
       "</style>\n",
       "<table border=\"1\" class=\"dataframe\">\n",
       "  <thead>\n",
       "    <tr style=\"text-align: right;\">\n",
       "      <th></th>\n",
       "      <th>shock_option</th>\n",
       "      <th>update_mode</th>\n",
       "      <th>update_gain</th>\n",
       "      <th>week_of_shock</th>\n",
       "      <th>target_scheme_revenue</th>\n",
       "      <th>initial_permit_price</th>\n",
       "      <th>initial_baseline</th>\n",
       "      <th>initial_rolling_scheme_revenue</th>\n",
       "      <th>seed</th>\n",
       "    </tr>\n",
       "  </thead>\n",
       "  <tbody>\n",
       "    <tr>\n",
       "      <th>593BE533</th>\n",
       "      <td>NO_SHOCKS</td>\n",
       "      <td>NO_UPDATE</td>\n",
       "      <td>1</td>\n",
       "      <td>10</td>\n",
       "      <td>0</td>\n",
       "      <td>40</td>\n",
       "      <td>1</td>\n",
       "      <td>0</td>\n",
       "      <td>10</td>\n",
       "    </tr>\n",
       "    <tr>\n",
       "      <th>616C9C83</th>\n",
       "      <td>NO_SHOCKS</td>\n",
       "      <td>HOOKE_UPDATE</td>\n",
       "      <td>1</td>\n",
       "      <td>10</td>\n",
       "      <td>0</td>\n",
       "      <td>40</td>\n",
       "      <td>1</td>\n",
       "      <td>0</td>\n",
       "      <td>10</td>\n",
       "    </tr>\n",
       "    <tr>\n",
       "      <th>8032B6AA</th>\n",
       "      <td>NO_SHOCKS</td>\n",
       "      <td>NO_UPDATE</td>\n",
       "      <td>1</td>\n",
       "      <td>10</td>\n",
       "      <td>0</td>\n",
       "      <td>0</td>\n",
       "      <td>0</td>\n",
       "      <td>0</td>\n",
       "      <td>10</td>\n",
       "    </tr>\n",
       "  </tbody>\n",
       "</table>\n",
       "</div>"
      ],
      "text/plain": [
       "         shock_option   update_mode  update_gain  week_of_shock  \\\n",
       "593BE533    NO_SHOCKS     NO_UPDATE            1             10   \n",
       "616C9C83    NO_SHOCKS  HOOKE_UPDATE            1             10   \n",
       "8032B6AA    NO_SHOCKS     NO_UPDATE            1             10   \n",
       "\n",
       "          target_scheme_revenue  initial_permit_price  initial_baseline  \\\n",
       "593BE533                      0                    40                 1   \n",
       "616C9C83                      0                    40                 1   \n",
       "8032B6AA                      0                     0                 0   \n",
       "\n",
       "          initial_rolling_scheme_revenue  seed  \n",
       "593BE533                               0    10  \n",
       "616C9C83                               0    10  \n",
       "8032B6AA                               0    10  "
      ]
     },
     "execution_count": 29,
     "metadata": {},
     "output_type": "execute_result"
    }
   ],
   "source": [
    "def get_all_run_summaries(results_dir):\n",
    "    \"Collate information summarising the parameters used in each run\"\n",
    "    \n",
    "    # Find all results summary files\n",
    "    run_summary_files = [i for i in os.listdir(results_dir) if 'run_summary' in i]\n",
    "\n",
    "    # Container for dictionaries summarising model runs\n",
    "    run_summaries = dict()\n",
    "\n",
    "    for i in run_summary_files:\n",
    "        with open(os.path.join(results_dir, i), 'rb') as f:\n",
    "            run_summary = pickle.load(f)\n",
    "            run_summaries = {**run_summaries, **run_summary}\n",
    "            \n",
    "    return run_summaries\n",
    "\n",
    "# Summary of parameters used for each run\n",
    "run_summaries = pd.DataFrame.from_dict(get_all_run_summaries(results_dir), orient='index')\n",
    "run_summaries"
   ]
  },
  {
   "cell_type": "markdown",
   "metadata": {},
   "source": [
    "Parse results for a given scenario\n",
    "* Total emissions for each NEM region and nation\n",
    "* Total scheme revenue for each NEM region and nation\n",
    "* Generation by fuel type and NEM region and nation\n",
    "\n",
    "Then aggregate scenarios into weekly values\n",
    "* Average price for each NEM region\n",
    "* Emissions intensity for system and regulated generators, for nation and each NEM region\n",
    "* Generation by fuel type and NEM region and nation"
   ]
  },
  {
   "cell_type": "code",
   "execution_count": 33,
   "metadata": {},
   "outputs": [],
   "source": [
    "# BAU scenario (permit_price=0, baseline=0)\n",
    "run_id = '616C9C83'\n",
    "\n",
    "# Network nodes\n",
    "df_n = pd.read_csv(os.path.join(data_dir, 'egrimod-nem-dataset-v1.3', 'akxen-egrimod-nem-dataset-4806603', 'network', 'network_nodes.csv'), index_col='NODE_ID')\n",
    "\n",
    "# Representative operating scenarios for each week\n",
    "with open(os.path.join(scenarios_dir, 'weekly_scenarios.pickle'), 'rb') as f:\n",
    "    df_s = pickle.load(f)\n",
    "\n",
    "# Power output from each scenario - from DCOPF model\n",
    "with open(os.path.join(results_dir, f'{run_id}_scenario_power_output.pickle'), 'rb') as f:\n",
    "    scenario_power_output = pickle.load(f)\n",
    "    \n",
    "# Generator parameters used in model\n",
    "with open(os.path.join(results_dir, f'{run_id}_generators.pickle'), 'rb') as f:\n",
    "    df_g = pickle.load(f)\n",
    "    \n",
    "# Baseline for each week\n",
    "with open(os.path.join(results_dir, f'{run_id}_week_baseline.pickle'), 'rb') as f:\n",
    "    week_baseline = pickle.load(f)\n",
    "    \n",
    "# Rolling scheme revenue for each week\n",
    "with open(os.path.join(results_dir, f'{run_id}_week_rolling_scheme_revenue.pickle'), 'rb') as f:\n",
    "    week_rolling_scheme_revenue = pickle.load(f)\n",
    "\n",
    "    \n",
    "# Generator output results\n",
    "# ------------------------\n",
    "# Power output from each generator for each time period\n",
    "df = pd.DataFrame(scenario_power_output)\n",
    "\n",
    "# Re-organise DataFrame so multi-index is removed, with individual columns containing week and scenario indices\n",
    "df_o = df.reset_index().melt(id_vars=['index']).rename(columns={'index': 'DUID', 'variable_0': 'week_index', 'variable_1': 'scenario_index', 'value': 'power_pu'})\n",
    "\n",
    "# Get duration of each scenario\n",
    "df_o['duration_hrs']= df_o.apply(lambda x: df_s.loc[('hours', 'duration'), (x['week_index'], x['scenario_index'])], axis=1)\n",
    "\n",
    "# Get emissions, NEM region, and fuel type for each DUID\n",
    "df_o = pd.merge(df_o, df_g[['EMISSIONS', 'NEM_REGION', 'FUEL_TYPE']], how='left', left_on='DUID', right_index=True)\n",
    "\n",
    "# Total energy output for each DUID and each scenario\n",
    "df_o['energy_MWh'] = df_o['power_pu'].mul(100).mul(df_o['duration_hrs'])\n",
    "\n",
    "# Total emissions for each DUID and each scenario\n",
    "df_o['emissions_tCO2'] = df_o['energy_MWh'].mul(df_o['EMISSIONS'])\n",
    "\n",
    "\n",
    "# Scenario information\n",
    "# --------------------\n",
    "# Duration for each scenario\n",
    "duration = df_s.loc[('hours', 'duration')]\n",
    "duration = duration.reset_index()\n",
    "duration.columns = duration.columns.droplevel(level=1)\n",
    "\n",
    "# Fixed nodal injections and withdrawals (demand, hydro, and intermittent sources)\n",
    "df_fixed = df_s.drop(('hours', 'duration')).reset_index().melt(id_vars=['level', 'NODE_ID']).rename(columns={'value': 'power_MW'}).astype({'NODE_ID': int, 'week': int, 'scenario': int})\n",
    "\n",
    "# Merge duration for each operating scenario\n",
    "df_fixed = pd.merge(df_fixed, duration, how='left', left_on=['week', 'scenario'], right_on=['week', 'scenario'])\n",
    "\n",
    "# Compute total energy injection / withdrawal\n",
    "df_fixed['energy_MWh'] = df_fixed['power_MW'].mul(df_fixed['hours'])\n",
    "\n",
    "# Merge NEM region IDs\n",
    "df_fixed = pd.merge(df_fixed, df_n[['NEM_REGION']], how='left', left_on='NODE_ID', right_index=True)\n",
    "\n",
    "# Aggregate fixed injections for each NEM region\n",
    "df_reg_fixed = df_fixed.groupby(['NEM_REGION', 'week', 'level'])[['energy_MWh']].sum().reset_index()\n",
    "\n",
    "# Aggregate fixed injections for whole nation\n",
    "df_nat_fixed = df_reg_fixed.groupby(['week', 'level'])[['energy_MWh']].sum().reset_index()\n",
    "df_nat_fixed['NEM_REGION'] = 'NATIONAL'\n",
    "\n",
    "# Combine regional and national level statistics\n",
    "df_com_fixed = pd.concat([df_reg_fixed, df_nat_fixed], sort=False).set_index(['NEM_REGION', 'level', 'week']).sort_index()\n",
    "\n",
    "\n",
    "# Weekly regional and national statistics\n",
    "# ---------------------------------------\n",
    "# Total energy output and emissions from regulated generators for each NEM region\n",
    "df_reg = df_o.groupby(['week_index', 'NEM_REGION'])[['energy_MWh', 'emissions_tCO2']].sum().reset_index()\n",
    "\n",
    "# Total energy output and emissions from regulated generators for nation\n",
    "df_nat = df_reg.groupby('week_index')[['energy_MWh', 'emissions_tCO2']].sum().reset_index()\n",
    "df_nat['NEM_REGION'] = 'NATIONAL'\n",
    "\n",
    "# Combined regional and national level statistics\n",
    "df_com = pd.concat([df_reg, df_nat], sort=False).set_index(['NEM_REGION', 'week_index']).sort_index()\n",
    "\n",
    "# Average emissions intensity of regulated generators\n",
    "df_com['average_regulated_emissions_intensity'] = df_com['emissions_tCO2'].div(df_com['energy_MWh'])\n",
    "\n",
    "# Energy demand each period\n",
    "df_com['demand_MWh'] = df_com.apply(lambda x: df_com_fixed.loc[(x.name[0], 'demand', x.name[1]), 'energy_MWh'], axis=1)\n",
    "\n",
    "# Fixed energy injections from hydro sources\n",
    "df_com['hydro_MWh'] = df_com.apply(lambda x: df_com_fixed.loc[(x.name[0], 'hydro', x.name[1]), 'energy_MWh'], axis=1)\n",
    "\n",
    "# Fixed energy injections from intermittent generators\n",
    "df_com['intermittent_MWh'] = df_com.apply(lambda x: df_com_fixed.loc[(x.name[0], 'intermittent', x.name[1]), 'energy_MWh'], axis=1)\n",
    "\n",
    "# Check national energy demand and energy injections balance\n",
    "df_com['energy_MWh'].add(df_com['hydro_MWh']).add(df_com['intermittent_MWh']).subtract(df_com['demand_MWh']).loc['NATIONAL']\n",
    "\n",
    "# Average system emissions intensity (total emissions / total demand)\n",
    "df_com['average_system_emissions_intensity'] = df_com['emissions_tCO2'].div(df_com['demand_MWh'])\n",
    "\n"
   ]
  },
  {
   "cell_type": "code",
   "execution_count": 38,
   "metadata": {},
   "outputs": [
    {
     "data": {
      "image/png": "[encoded data removed]",
      "text/plain": [
       "<matplotlib.figure.Figure at 0x1bd8c8c4128>"
      ]
     },
     "metadata": {},
     "output_type": "display_data"
    }
   ],
   "source": [
    "plt.clf()\n",
    "df_com.loc['NATIONAL', 'average_regulated_emissions_intensity'].plot()\n",
    "plt.show()"
   ]
  },
  {
   "cell_type": "code",
   "execution_count": 41,
   "metadata": {},
   "outputs": [
    {
     "data": {
      "text/plain": [
       "<matplotlib.figure.Figure at 0x1bd8c688ac8>"
      ]
     },
     "metadata": {},
     "output_type": "display_data"
    },
    {
     "data": {
      "image/png": "[encoded data removed]",
      "text/plain": [
       "<matplotlib.figure.Figure at 0x1bd8c03c198>"
      ]
     },
     "metadata": {},
     "output_type": "display_data"
    }
   ],
   "source": [
    "plt.clf()\n",
    "df = pd.DataFrame.from_dict(week_baseline, orient='index')\n",
    "df.plot()\n",
    "plt.show()"
   ]
  },
  {
   "cell_type": "code",
   "execution_count": 37,
   "metadata": {},
   "outputs": [
    {
     "data": {
      "text/plain": [
       "<matplotlib.figure.Figure at 0x1bd8c722710>"
      ]
     },
     "metadata": {},
     "output_type": "display_data"
    },
    {
     "data": {
      "image/png": "[encoded data removed]",
      "text/plain": [
       "<matplotlib.figure.Figure at 0x1bd8c7160b8>"
      ]
     },
     "metadata": {},
     "output_type": "display_data"
    }
   ],
   "source": [
    "plt.clf()\n",
    "pd.DataFrame.from_dict(week_rolling_scheme_revenue, orient='index').plot()\n",
    "plt.show()"
   ]
  },
  {
   "cell_type": "code",
   "execution_count": 80,
   "metadata": {},
   "outputs": [
    {
     "data": {
      "text/plain": [
       "<matplotlib.figure.Figure at 0x1bd8c6861d0>"
      ]
     },
     "metadata": {},
     "output_type": "display_data"
    },
    {
     "data": {
      "image/png": "[encoded data removed]",
      "text/plain": [
       "<matplotlib.figure.Figure at 0x1bd8c850390>"
      ]
     },
     "metadata": {},
     "output_type": "display_data"
    },
    {
     "data": {
      "text/plain": [
       "<matplotlib.figure.Figure at 0x1bd8c97e9b0>"
      ]
     },
     "metadata": {},
     "output_type": "display_data"
    },
    {
     "data": {
      "image/png": "[encoded data removed]",
      "text/plain": [
       "<matplotlib.figure.Figure at 0x1bd8b02d160>"
      ]
     },
     "metadata": {},
     "output_type": "display_data"
    }
   ],
   "source": [
    "def get_weekly_aggregate_national_statistics(df_o, week_index, baseline):\n",
    "    \"Compute net scheme revenue for a given week\"\n",
    "\n",
    "    df_wk = df_o.loc[df_o['week_index']==week_index].copy()\n",
    "\n",
    "    # Compute net scheme revenue given baseline that applied for that week\n",
    "    df_wk['net_scheme_revenue'] = df_wk['EMISSIONS'].subtract(baseline).mul(df_wk['energy_MWh'])\n",
    "\n",
    "    return df_wk[['energy_MWh', 'net_scheme_revenue']].sum().to_dict()\n",
    "\n",
    "week_index = 1\n",
    "baseline = 1\n",
    "target_scheme_revenue = 0\n",
    "rolling_scheme_revenue = 0\n",
    "permit_price = run_summaries.loc[run_id, 'initial_permit_price']\n",
    "update_gain = 10\n",
    "\n",
    "weekly_baseline = dict()\n",
    "weekly_rolling_scheme_revenue = dict()\n",
    "\n",
    "for week_index in range(1, 53):\n",
    "    # Record baseline\n",
    "    weekly_baseline[week_index] = baseline\n",
    "    \n",
    "    # Record rolling scheme revenue\n",
    "    weekly_rolling_scheme_revenue[week_index] = rolling_scheme_revenue\n",
    "    \n",
    "    # Perform computations for the given week\n",
    "    weekly_aggregate_national_statistics = get_weekly_aggregate_national_statistics(df_o, week_index, baseline)\n",
    "    \n",
    "    # Rolling scheme revenue\n",
    "    rolling_scheme_revenue += weekly_aggregate_national_statistics['net_scheme_revenue']\n",
    "    \n",
    "    # Hooke update\n",
    "    baseline += - update_gain * ((target_scheme_revenue - rolling_scheme_revenue) / (permit_price * weekly_aggregate_national_statistics['energy_MWh']))\n",
    "    \n",
    "    # Set baseline equal to zero if update results in a negative value\n",
    "    if baseline < 0:\n",
    "        baseline = 0\n",
    "\n",
    "        \n",
    "plt.clf()\n",
    "ax = pd.DataFrame.from_dict(weekly_baseline, orient='index').plot()\n",
    "ax.set_ylim([0.5, 1.1])\n",
    "plt.show()\n",
    "\n",
    "plt.clf()\n",
    "ax = pd.DataFrame.from_dict(weekly_rolling_scheme_revenue, orient='index').plot()\n",
    "plt.show()"
   ]
  }
 ],
 "metadata": {
  "kernelspec": {
   "display_name": "opti env",
   "language": "python",
   "name": "opti"
  },
  "language_info": {
   "codemirror_mode": {
    "name": "ipython",
    "version": 3
   },
   "file_extension": ".py",
   "mimetype": "text/x-python",
   "name": "python",
   "nbconvert_exporter": "python",
   "pygments_lexer": "ipython3",
   "version": "3.6.2"
  }
 },
 "nbformat": 4,
 "nbformat_minor": 2
}
